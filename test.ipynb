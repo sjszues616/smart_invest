{
 "cells": [
  {
   "cell_type": "code",
   "execution_count": 3,
   "metadata": {},
   "outputs": [],
   "source": [
    "import pandas as pd"
   ]
  },
  {
   "cell_type": "code",
   "execution_count": 7,
   "metadata": {},
   "outputs": [
    {
     "name": "stdout",
     "output_type": "stream",
     "text": [
      "          date     open    close     high      low     volume        amount\n",
      "0   2024-10-09  4168.84  3955.98  4197.60  3942.51  482269295  1.029032e+12\n",
      "1   2024-10-10  3979.61  3997.79  4098.50  3912.77  395053099  7.179522e+11\n",
      "2   2024-10-11  3969.76  3887.17  3978.24  3847.12  274096505  4.849983e+11\n",
      "3   2024-10-14  3915.22  3961.34  3979.54  3868.78  307578993  5.340766e+11\n",
      "4   2024-10-15  3942.53  3855.99  3967.87  3855.99  242486448  4.344109e+11\n",
      "..         ...      ...      ...      ...      ...        ...           ...\n",
      "59  2024-12-31  3995.87  3934.91  4004.35  3934.91  183928397  3.478804e+11\n",
      "60  2025-01-02  3931.82  3820.40  3934.20  3796.34  217898724  3.886366e+11\n",
      "61  2025-01-03  3825.24  3775.16  3835.94  3767.67  175342676  3.043228e+11\n",
      "62  2025-01-06  3775.99  3768.97  3788.85  3743.07  150946670  2.628035e+11\n",
      "63  2025-01-07  3760.87  3796.11  3797.60  3749.06  146455779  2.668558e+11\n",
      "\n",
      "[64 rows x 7 columns]\n",
      "<class 'pandas.core.frame.DataFrame'>\n"
     ]
    }
   ],
   "source": [
    "filename = 'sh000300_stock_data.csv'\n",
    "df = pd.read_csv(filename)\n",
    "\n",
    "print(df)\n",
    "print(type(df))"
   ]
  },
  {
   "cell_type": "code",
   "execution_count": 9,
   "metadata": {},
   "outputs": [
    {
     "data": {
      "text/plain": [
       "RangeIndex(start=0, stop=64, step=1)"
      ]
     },
     "execution_count": 9,
     "metadata": {},
     "output_type": "execute_result"
    }
   ],
   "source": [
    "df.index"
   ]
  }
 ],
 "metadata": {
  "kernelspec": {
   "display_name": "smart_invest-xPidyKnR",
   "language": "python",
   "name": "python3"
  },
  "language_info": {
   "codemirror_mode": {
    "name": "ipython",
    "version": 3
   },
   "file_extension": ".py",
   "mimetype": "text/x-python",
   "name": "python",
   "nbconvert_exporter": "python",
   "pygments_lexer": "ipython3",
   "version": "3.8.10"
  }
 },
 "nbformat": 4,
 "nbformat_minor": 2
}
