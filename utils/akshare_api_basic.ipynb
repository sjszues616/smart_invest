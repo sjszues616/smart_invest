{
 "cells": [
  {
   "cell_type": "code",
   "execution_count": null,
   "metadata": {},
   "outputs": [],
   "source": [
    "import datetime\n",
    "import akshare as ak"
   ]
  },
  {
   "cell_type": "code",
   "execution_count": 6,
   "metadata": {},
   "outputs": [
    {
     "name": "stdout",
     "output_type": "stream",
     "text": [
      "上海证券交易所:\n",
      "      项目         股票         主板       科创板\n",
      "0   流通股本   46690.09   45121.29    1568.8\n",
      "1    总市值  505735.95  442982.73  62753.22\n",
      "2  平均市盈率      13.71      12.75     40.36\n",
      "3   上市公司       2281       1698       583\n",
      "4   上市股票       2320       1737       583\n",
      "5   流通市值  474858.41  427130.12  47728.29\n",
      "6   报告时间   20250115   20250115  20250115\n",
      "8    总股本   49398.23   47172.59   2225.64\n",
      "==================================================\n",
      "\n",
      "深圳证券交易所:\n",
      "      证券类别     数量          成交金额           总市值          流通市值\n",
      "0       股票   2889  7.231493e+11  3.209378e+13  2.733995e+13\n",
      "1     主板A股   1482  3.938412e+11  1.995904e+13  1.798451e+13\n",
      "2     主板B股     39  5.975812e+07  5.024298e+10  5.011617e+10\n",
      "3    创业板A股   1368  3.292483e+11  1.208450e+13  9.305327e+12\n",
      "4       基金    741  6.387584e+10  1.078265e+12  1.048012e+12\n",
      "5      ETF    430  6.303490e+10  9.901249e+11  9.901249e+11\n",
      "6      LOF    290  6.422679e+08  3.402732e+10  3.402732e+10\n",
      "7    封闭式基金      1  6.068653e+05  1.680335e+09  1.680335e+09\n",
      "8   基础设施基金     20  1.980656e+08  5.243280e+10  2.217893e+10\n",
      "9       债券  14972  2.846991e+11           NaN           NaN\n",
      "10    债券现券  14324  3.700726e+10  8.258734e+13  2.875967e+12\n",
      "11    债券回购     27  2.471422e+11           NaN           NaN\n",
      "12     ABS    621  5.496302e+08  4.273070e+11  4.273070e+11\n",
      "13      期权    642  6.107513e+08           NaN           NaN\n"
     ]
    }
   ],
   "source": [
    "# 获取股票市场基本状态\n",
    "sh_stock_summary  = ak.stock_sse_summary()\n",
    "print('上海证券交易所:')\n",
    "print(sh_stock_summary)\n",
    "print(f'{\"=\"*50}\\n')\n",
    "date = datetime.datetime.today().strftime(\"%Y%m%d\")\n",
    "sz_stock_summary = ak.stock_szse_summary(date=date)\n",
    "print('深圳证券交易所:')\n",
    "print(sz_stock_summary)"
   ]
  },
  {
   "cell_type": "code",
   "execution_count": null,
   "metadata": {},
   "outputs": [],
   "source": []
  }
 ],
 "metadata": {
  "kernelspec": {
   "display_name": "smart_investment-9d90E6Mj",
   "language": "python",
   "name": "python3"
  },
  "language_info": {
   "codemirror_mode": {
    "name": "ipython",
    "version": 3
   },
   "file_extension": ".py",
   "mimetype": "text/x-python",
   "name": "python",
   "nbconvert_exporter": "python",
   "pygments_lexer": "ipython3",
   "version": "3.10.11"
  }
 },
 "nbformat": 4,
 "nbformat_minor": 2
}
